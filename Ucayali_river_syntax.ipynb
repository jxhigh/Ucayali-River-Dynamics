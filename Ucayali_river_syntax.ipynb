{
 "cells": [
  {
   "cell_type": "markdown",
   "metadata": {},
   "source": [
    "<a href=\"https://githubtocolab.com/giswqs/geemap/blob/master/examples/notebooks/27_timelapse_app.ipynb\" target=\"_parent\"><img src=\"https://colab.research.google.com/assets/colab-badge.svg\" alt=\"Open in Colab\"/></a>\n",
    "\n",
    "Uncomment the following line to install [geemap](https://geemap.org) if needed."
   ]
  },
  {
   "cell_type": "code",
   "execution_count": 22,
   "metadata": {},
   "outputs": [
    {
     "name": "stdout",
     "output_type": "stream",
     "text": [
      "Requirement already satisfied: geemap in c:\\users\\jaquan\\dropbox\\my pc (desktop-d51qa19)\\downloads\\geol_315\\lib\\site-packages (0.8.9)\n",
      "Requirement already satisfied: whiteboxgui in c:\\users\\jaquan\\dropbox\\my pc (desktop-d51qa19)\\downloads\\geol_315\\lib\\site-packages (from geemap) (0.1.9)\n",
      "Requirement already satisfied: earthengine-api>=0.1.230 in c:\\users\\jaquan\\dropbox\\my pc (desktop-d51qa19)\\downloads\\geol_315\\lib\\site-packages (from geemap) (0.1.251)\n",
      "Requirement already satisfied: pyshp in c:\\users\\jaquan\\dropbox\\my pc (desktop-d51qa19)\\downloads\\geol_315\\lib\\site-packages (from geemap) (2.1.3)\n",
      "Requirement already satisfied: pillow in c:\\users\\jaquan\\dropbox\\my pc (desktop-d51qa19)\\downloads\\geol_315\\lib\\site-packages (from geemap) (8.0.1)\n",
      "Requirement already satisfied: ipyleaflet<=0.13.3 in c:\\users\\jaquan\\dropbox\\my pc (desktop-d51qa19)\\downloads\\geol_315\\lib\\site-packages (from geemap) (0.13.3)\n",
      "Requirement already satisfied: mss in c:\\users\\jaquan\\dropbox\\my pc (desktop-d51qa19)\\downloads\\geol_315\\lib\\site-packages (from geemap) (6.1.0)\n",
      "Requirement already satisfied: voila in c:\\users\\jaquan\\dropbox\\my pc (desktop-d51qa19)\\downloads\\geol_315\\lib\\site-packages (from geemap) (0.2.6)\n",
      "Requirement already satisfied: ffmpeg-python in c:\\users\\jaquan\\dropbox\\my pc (desktop-d51qa19)\\downloads\\geol_315\\lib\\site-packages (from geemap) (0.2.0)\n",
      "Requirement already satisfied: folium>=0.11.0 in c:\\users\\jaquan\\dropbox\\my pc (desktop-d51qa19)\\downloads\\geol_315\\lib\\site-packages (from geemap) (0.12.1)\n",
      "Requirement already satisfied: geeadd>=0.5.1 in c:\\users\\jaquan\\dropbox\\my pc (desktop-d51qa19)\\downloads\\geol_315\\lib\\site-packages (from geemap) (0.5.3)\n",
      "Requirement already satisfied: ipytree in c:\\users\\jaquan\\dropbox\\my pc (desktop-d51qa19)\\downloads\\geol_315\\lib\\site-packages (from geemap) (0.1.8)\n",
      "Requirement already satisfied: pycrs in c:\\users\\jaquan\\dropbox\\my pc (desktop-d51qa19)\\downloads\\geol_315\\lib\\site-packages (from geemap) (1.0.2)\n",
      "Requirement already satisfied: ipyevents in c:\\users\\jaquan\\dropbox\\my pc (desktop-d51qa19)\\downloads\\geol_315\\lib\\site-packages (from geemap) (0.8.1)\n",
      "Requirement already satisfied: numpy in c:\\users\\jaquan\\dropbox\\my pc (desktop-d51qa19)\\downloads\\geol_315\\lib\\site-packages (from geemap) (1.19.2)\n",
      "Requirement already satisfied: colour in c:\\users\\jaquan\\dropbox\\my pc (desktop-d51qa19)\\downloads\\geol_315\\lib\\site-packages (from geemap) (0.1.5)\n",
      "Requirement already satisfied: ipyfilechooser in c:\\users\\jaquan\\dropbox\\my pc (desktop-d51qa19)\\downloads\\geol_315\\lib\\site-packages (from geemap) (0.4.2)\n",
      "Requirement already satisfied: click in c:\\users\\jaquan\\dropbox\\my pc (desktop-d51qa19)\\downloads\\geol_315\\lib\\site-packages (from geemap) (7.1.2)\n",
      "Requirement already satisfied: pandas in c:\\users\\jaquan\\dropbox\\my pc (desktop-d51qa19)\\downloads\\geol_315\\lib\\site-packages (from geemap) (1.1.3)\n",
      "Requirement already satisfied: ipynb-py-convert in c:\\users\\jaquan\\dropbox\\my pc (desktop-d51qa19)\\downloads\\geol_315\\lib\\site-packages (from geemap) (0.4.6)\n",
      "Requirement already satisfied: matplotlib in c:\\users\\jaquan\\dropbox\\my pc (desktop-d51qa19)\\downloads\\geol_315\\lib\\site-packages (from geemap) (3.3.2)\n",
      "Requirement already satisfied: bqplot in c:\\users\\jaquan\\dropbox\\my pc (desktop-d51qa19)\\downloads\\geol_315\\lib\\site-packages (from geemap) (0.12.22)\n",
      "Requirement already satisfied: geocoder in c:\\users\\jaquan\\dropbox\\my pc (desktop-d51qa19)\\downloads\\geol_315\\lib\\site-packages (from geemap) (1.38.1)\n",
      "Requirement already satisfied: whitebox in c:\\users\\jaquan\\dropbox\\my pc (desktop-d51qa19)\\downloads\\geol_315\\lib\\site-packages (from whiteboxgui->geemap) (1.4.0)\n",
      "Requirement already satisfied: ipywidgets in c:\\users\\jaquan\\dropbox\\my pc (desktop-d51qa19)\\downloads\\geol_315\\lib\\site-packages (from whiteboxgui->geemap) (7.5.1)\n",
      "Requirement already satisfied: google-auth-httplib2>=0.0.3 in c:\\users\\jaquan\\dropbox\\my pc (desktop-d51qa19)\\downloads\\geol_315\\lib\\site-packages (from earthengine-api>=0.1.230->geemap) (0.0.4)\n",
      "Requirement already satisfied: httplib2shim in c:\\users\\jaquan\\dropbox\\my pc (desktop-d51qa19)\\downloads\\geol_315\\lib\\site-packages (from earthengine-api>=0.1.230->geemap) (0.0.3)\n",
      "Requirement already satisfied: google-cloud-storage in c:\\users\\jaquan\\dropbox\\my pc (desktop-d51qa19)\\downloads\\geol_315\\lib\\site-packages (from earthengine-api>=0.1.230->geemap) (1.36.0)\n",
      "Requirement already satisfied: google-auth>=1.4.1 in c:\\users\\jaquan\\dropbox\\my pc (desktop-d51qa19)\\downloads\\geol_315\\lib\\site-packages (from earthengine-api>=0.1.230->geemap) (1.26.1)\n",
      "Requirement already satisfied: httplib2<1dev,>=0.9.2 in c:\\users\\jaquan\\dropbox\\my pc (desktop-d51qa19)\\downloads\\geol_315\\lib\\site-packages (from earthengine-api>=0.1.230->geemap) (0.19.0)\n",
      "Requirement already satisfied: google-api-python-client>=1.12.1 in c:\\users\\jaquan\\dropbox\\my pc (desktop-d51qa19)\\downloads\\geol_315\\lib\\site-packages (from earthengine-api>=0.1.230->geemap) (1.12.8)\n",
      "Requirement already satisfied: future in c:\\users\\jaquan\\dropbox\\my pc (desktop-d51qa19)\\downloads\\geol_315\\lib\\site-packages (from earthengine-api>=0.1.230->geemap) (0.18.2)\n",
      "Requirement already satisfied: six in c:\\users\\jaquan\\dropbox\\my pc (desktop-d51qa19)\\downloads\\geol_315\\lib\\site-packages (from earthengine-api>=0.1.230->geemap) (1.15.0)\n",
      "Requirement already satisfied: traittypes<3,>=0.2.1 in c:\\users\\jaquan\\dropbox\\my pc (desktop-d51qa19)\\downloads\\geol_315\\lib\\site-packages (from ipyleaflet<=0.13.3->geemap) (0.2.1)\n",
      "Requirement already satisfied: branca<0.5,>=0.3.1 in c:\\users\\jaquan\\dropbox\\my pc (desktop-d51qa19)\\downloads\\geol_315\\lib\\site-packages (from ipyleaflet<=0.13.3->geemap) (0.4.2)\n",
      "Requirement already satisfied: nbclient<0.6,>=0.4.0 in c:\\users\\jaquan\\dropbox\\my pc (desktop-d51qa19)\\downloads\\geol_315\\lib\\site-packages (from voila->geemap) (0.5.1)\n",
      "Requirement already satisfied: nbconvert<7,>=6.0.0 in c:\\users\\jaquan\\dropbox\\my pc (desktop-d51qa19)\\downloads\\geol_315\\lib\\site-packages (from voila->geemap) (6.0.7)\n",
      "Requirement already satisfied: jupyter-server<2.0.0,>=0.3.0 in c:\\users\\jaquan\\dropbox\\my pc (desktop-d51qa19)\\downloads\\geol_315\\lib\\site-packages (from voila->geemap) (1.3.0)\n",
      "Requirement already satisfied: jupyter-client<7,>=6.1.3 in c:\\users\\jaquan\\dropbox\\my pc (desktop-d51qa19)\\downloads\\geol_315\\lib\\site-packages (from voila->geemap) (6.1.7)\n",
      "Requirement already satisfied: requests in c:\\users\\jaquan\\dropbox\\my pc (desktop-d51qa19)\\downloads\\geol_315\\lib\\site-packages (from folium>=0.11.0->geemap) (2.24.0)\n",
      "Requirement already satisfied: jinja2>=2.9 in c:\\users\\jaquan\\dropbox\\my pc (desktop-d51qa19)\\downloads\\geol_315\\lib\\site-packages (from folium>=0.11.0->geemap) (2.11.2)\n",
      "Requirement already satisfied: beautifulsoup4>=4.9.0 in c:\\users\\jaquan\\dropbox\\my pc (desktop-d51qa19)\\downloads\\geol_315\\lib\\site-packages (from geeadd>=0.5.1->geemap) (4.9.3)\n",
      "Requirement already satisfied: logzero>=1.5.0 in c:\\users\\jaquan\\dropbox\\my pc (desktop-d51qa19)\\downloads\\geol_315\\lib\\site-packages (from geeadd>=0.5.1->geemap) (1.6.3)\n",
      "Requirement already satisfied: python-dateutil>=2.7.3 in c:\\users\\jaquan\\dropbox\\my pc (desktop-d51qa19)\\downloads\\geol_315\\lib\\site-packages (from pandas->geemap) (2.8.1)\n",
      "Requirement already satisfied: pytz>=2017.2 in c:\\users\\jaquan\\dropbox\\my pc (desktop-d51qa19)\\downloads\\geol_315\\lib\\site-packages (from pandas->geemap) (2020.1)\n",
      "Requirement already satisfied: kiwisolver>=1.0.1 in c:\\users\\jaquan\\dropbox\\my pc (desktop-d51qa19)\\downloads\\geol_315\\lib\\site-packages (from matplotlib->geemap) (1.3.0)\n",
      "Requirement already satisfied: pyparsing!=2.0.4,!=2.1.2,!=2.1.6,>=2.0.3 in c:\\users\\jaquan\\dropbox\\my pc (desktop-d51qa19)\\downloads\\geol_315\\lib\\site-packages (from matplotlib->geemap) (2.4.7)"
     ]
    },
    {
     "name": "stderr",
     "output_type": "stream",
     "text": [
      "ERROR: Could not install packages due to an EnvironmentError: [WinError 5] Access is denied: 'C:\\\\Users\\\\Jaquan\\\\Dropbox\\\\My PC (DESKTOP-D51QA19)\\\\Downloads\\\\GEOL_315\\\\Lib\\\\site-packages\\\\~ornado\\\\speedups.cp38-win_amd64.pyd'\n",
      "Consider using the `--user` option or check the permissions.\n",
      "\n"
     ]
    },
    {
     "name": "stdout",
     "output_type": "stream",
     "text": [
      "\n",
      "Requirement already satisfied: certifi>=2020.06.20 in c:\\users\\jaquan\\dropbox\\my pc (desktop-d51qa19)\\downloads\\geol_315\\lib\\site-packages (from matplotlib->geemap) (2020.6.20)\n",
      "Requirement already satisfied: cycler>=0.10 in c:\\users\\jaquan\\dropbox\\my pc (desktop-d51qa19)\\downloads\\geol_315\\lib\\site-packages (from matplotlib->geemap) (0.10.0)\n",
      "Requirement already satisfied: traitlets>=4.3.0 in c:\\users\\jaquan\\dropbox\\my pc (desktop-d51qa19)\\downloads\\geol_315\\lib\\site-packages (from bqplot->geemap) (5.0.5)\n",
      "Requirement already satisfied: ratelim in c:\\users\\jaquan\\dropbox\\my pc (desktop-d51qa19)\\downloads\\geol_315\\lib\\site-packages (from geocoder->geemap) (0.1.6)\n",
      "Requirement already satisfied: widgetsnbextension~=3.5.0 in c:\\users\\jaquan\\dropbox\\my pc (desktop-d51qa19)\\downloads\\geol_315\\lib\\site-packages (from ipywidgets->whiteboxgui->geemap) (3.5.1)\n",
      "Requirement already satisfied: nbformat>=4.2.0 in c:\\users\\jaquan\\dropbox\\my pc (desktop-d51qa19)\\downloads\\geol_315\\lib\\site-packages (from ipywidgets->whiteboxgui->geemap) (5.0.8)\n",
      "Requirement already satisfied: ipython>=4.0.0; python_version >= \"3.3\" in c:\\users\\jaquan\\dropbox\\my pc (desktop-d51qa19)\\downloads\\geol_315\\lib\\site-packages (from ipywidgets->whiteboxgui->geemap) (7.19.0)\n",
      "Requirement already satisfied: ipykernel>=4.5.1 in c:\\users\\jaquan\\dropbox\\my pc (desktop-d51qa19)\\downloads\\geol_315\\lib\\site-packages (from ipywidgets->whiteboxgui->geemap) (5.3.4)\n",
      "Requirement already satisfied: urllib3 in c:\\users\\jaquan\\dropbox\\my pc (desktop-d51qa19)\\downloads\\geol_315\\lib\\site-packages (from httplib2shim->earthengine-api>=0.1.230->geemap) (1.25.11)\n",
      "Requirement already satisfied: google-cloud-core<2.0dev,>=1.4.1 in c:\\users\\jaquan\\dropbox\\my pc (desktop-d51qa19)\\downloads\\geol_315\\lib\\site-packages (from google-cloud-storage->earthengine-api>=0.1.230->geemap) (1.6.0)\n",
      "Requirement already satisfied: google-resumable-media<2.0dev,>=1.2.0 in c:\\users\\jaquan\\dropbox\\my pc (desktop-d51qa19)\\downloads\\geol_315\\lib\\site-packages (from google-cloud-storage->earthengine-api>=0.1.230->geemap) (1.2.0)\n",
      "Requirement already satisfied: cachetools<5.0,>=2.0.0 in c:\\users\\jaquan\\dropbox\\my pc (desktop-d51qa19)\\downloads\\geol_315\\lib\\site-packages (from google-auth>=1.4.1->earthengine-api>=0.1.230->geemap) (4.2.1)\n",
      "Requirement already satisfied: rsa<5,>=3.1.4; python_version >= \"3.6\" in c:\\users\\jaquan\\dropbox\\my pc (desktop-d51qa19)\\downloads\\geol_315\\lib\\site-packages (from google-auth>=1.4.1->earthengine-api>=0.1.230->geemap) (4.7)\n",
      "Requirement already satisfied: pyasn1-modules>=0.2.1 in c:\\users\\jaquan\\dropbox\\my pc (desktop-d51qa19)\\downloads\\geol_315\\lib\\site-packages (from google-auth>=1.4.1->earthengine-api>=0.1.230->geemap) (0.2.8)\n",
      "Requirement already satisfied: setuptools>=40.3.0 in c:\\users\\jaquan\\dropbox\\my pc (desktop-d51qa19)\\downloads\\geol_315\\lib\\site-packages (from google-auth>=1.4.1->earthengine-api>=0.1.230->geemap) (50.3.1.post20201107)\n",
      "Requirement already satisfied: google-api-core<2dev,>=1.21.0 in c:\\users\\jaquan\\dropbox\\my pc (desktop-d51qa19)\\downloads\\geol_315\\lib\\site-packages (from google-api-python-client>=1.12.1->earthengine-api>=0.1.230->geemap) (1.26.0)\n",
      "Requirement already satisfied: uritemplate<4dev,>=3.0.0 in c:\\users\\jaquan\\dropbox\\my pc (desktop-d51qa19)\\downloads\\geol_315\\lib\\site-packages (from google-api-python-client>=1.12.1->earthengine-api>=0.1.230->geemap) (3.0.1)\n",
      "Requirement already satisfied: async-generator in c:\\users\\jaquan\\dropbox\\my pc (desktop-d51qa19)\\downloads\\geol_315\\lib\\site-packages (from nbclient<0.6,>=0.4.0->voila->geemap) (1.10)\n",
      "Requirement already satisfied: nest-asyncio in c:\\users\\jaquan\\dropbox\\my pc (desktop-d51qa19)\\downloads\\geol_315\\lib\\site-packages (from nbclient<0.6,>=0.4.0->voila->geemap) (1.4.2)\n",
      "Requirement already satisfied: jupyterlab-pygments in c:\\users\\jaquan\\dropbox\\my pc (desktop-d51qa19)\\downloads\\geol_315\\lib\\site-packages (from nbconvert<7,>=6.0.0->voila->geemap) (0.1.2)\n",
      "Requirement already satisfied: pandocfilters>=1.4.1 in c:\\users\\jaquan\\dropbox\\my pc (desktop-d51qa19)\\downloads\\geol_315\\lib\\site-packages (from nbconvert<7,>=6.0.0->voila->geemap) (1.4.3)\n",
      "Requirement already satisfied: jupyter-core in c:\\users\\jaquan\\dropbox\\my pc (desktop-d51qa19)\\downloads\\geol_315\\lib\\site-packages (from nbconvert<7,>=6.0.0->voila->geemap) (4.6.3)\n",
      "Requirement already satisfied: testpath in c:\\users\\jaquan\\dropbox\\my pc (desktop-d51qa19)\\downloads\\geol_315\\lib\\site-packages (from nbconvert<7,>=6.0.0->voila->geemap) (0.4.4)\n",
      "Requirement already satisfied: pygments>=2.4.1 in c:\\users\\jaquan\\dropbox\\my pc (desktop-d51qa19)\\downloads\\geol_315\\lib\\site-packages (from nbconvert<7,>=6.0.0->voila->geemap) (2.7.2)\n",
      "Requirement already satisfied: entrypoints>=0.2.2 in c:\\users\\jaquan\\dropbox\\my pc (desktop-d51qa19)\\downloads\\geol_315\\lib\\site-packages (from nbconvert<7,>=6.0.0->voila->geemap) (0.3)\n",
      "Requirement already satisfied: bleach in c:\\users\\jaquan\\dropbox\\my pc (desktop-d51qa19)\\downloads\\geol_315\\lib\\site-packages (from nbconvert<7,>=6.0.0->voila->geemap) (3.2.1)\n",
      "Requirement already satisfied: defusedxml in c:\\users\\jaquan\\dropbox\\my pc (desktop-d51qa19)\\downloads\\geol_315\\lib\\site-packages (from nbconvert<7,>=6.0.0->voila->geemap) (0.6.0)\n",
      "Requirement already satisfied: mistune<2,>=0.8.1 in c:\\users\\jaquan\\dropbox\\my pc (desktop-d51qa19)\\downloads\\geol_315\\lib\\site-packages (from nbconvert<7,>=6.0.0->voila->geemap) (0.8.4)\n",
      "Requirement already satisfied: prometheus-client in c:\\users\\jaquan\\dropbox\\my pc (desktop-d51qa19)\\downloads\\geol_315\\lib\\site-packages (from jupyter-server<2.0.0,>=0.3.0->voila->geemap) (0.8.0)\n",
      "Requirement already satisfied: pyzmq>=17 in c:\\users\\jaquan\\dropbox\\my pc (desktop-d51qa19)\\downloads\\geol_315\\lib\\site-packages (from jupyter-server<2.0.0,>=0.3.0->voila->geemap) (19.0.2)\n",
      "Requirement already satisfied: terminado>=0.8.3 in c:\\users\\jaquan\\dropbox\\my pc (desktop-d51qa19)\\downloads\\geol_315\\lib\\site-packages (from jupyter-server<2.0.0,>=0.3.0->voila->geemap) (0.9.1)\n",
      "Requirement already satisfied: pywin32>=1.0; sys_platform == \"win32\" in c:\\users\\jaquan\\dropbox\\my pc (desktop-d51qa19)\\downloads\\geol_315\\lib\\site-packages (from jupyter-server<2.0.0,>=0.3.0->voila->geemap) (227)\n",
      "Requirement already satisfied: ipython-genutils in c:\\users\\jaquan\\dropbox\\my pc (desktop-d51qa19)\\downloads\\geol_315\\lib\\site-packages (from jupyter-server<2.0.0,>=0.3.0->voila->geemap) (0.2.0)\n",
      "Collecting tornado>=6.1.0\n",
      "  Downloading tornado-6.1-cp38-cp38-win_amd64.whl (422 kB)\n",
      "Requirement already satisfied: anyio>=2.0.2 in c:\\users\\jaquan\\dropbox\\my pc (desktop-d51qa19)\\downloads\\geol_315\\lib\\site-packages (from jupyter-server<2.0.0,>=0.3.0->voila->geemap) (2.1.0)\n",
      "Requirement already satisfied: Send2Trash in c:\\users\\jaquan\\dropbox\\my pc (desktop-d51qa19)\\downloads\\geol_315\\lib\\site-packages (from jupyter-server<2.0.0,>=0.3.0->voila->geemap) (1.5.0)\n",
      "Requirement already satisfied: idna<3,>=2.5 in c:\\users\\jaquan\\dropbox\\my pc (desktop-d51qa19)\\downloads\\geol_315\\lib\\site-packages (from requests->folium>=0.11.0->geemap) (2.10)\n",
      "Requirement already satisfied: chardet<4,>=3.0.2 in c:\\users\\jaquan\\dropbox\\my pc (desktop-d51qa19)\\downloads\\geol_315\\lib\\site-packages (from requests->folium>=0.11.0->geemap) (3.0.4)\n",
      "Requirement already satisfied: MarkupSafe>=0.23 in c:\\users\\jaquan\\dropbox\\my pc (desktop-d51qa19)\\downloads\\geol_315\\lib\\site-packages (from jinja2>=2.9->folium>=0.11.0->geemap) (1.1.1)\n",
      "Requirement already satisfied: soupsieve>1.2; python_version >= \"3.0\" in c:\\users\\jaquan\\dropbox\\my pc (desktop-d51qa19)\\downloads\\geol_315\\lib\\site-packages (from beautifulsoup4>=4.9.0->geeadd>=0.5.1->geemap) (2.0.1)\n",
      "Requirement already satisfied: colorama; sys_platform == \"win32\" in c:\\users\\jaquan\\dropbox\\my pc (desktop-d51qa19)\\downloads\\geol_315\\lib\\site-packages (from logzero>=1.5.0->geeadd>=0.5.1->geemap) (0.4.4)\n",
      "Requirement already satisfied: decorator in c:\\users\\jaquan\\dropbox\\my pc (desktop-d51qa19)\\downloads\\geol_315\\lib\\site-packages (from ratelim->geocoder->geemap) (4.4.2)\n",
      "Requirement already satisfied: notebook>=4.4.1 in c:\\users\\jaquan\\dropbox\\my pc (desktop-d51qa19)\\downloads\\geol_315\\lib\\site-packages (from widgetsnbextension~=3.5.0->ipywidgets->whiteboxgui->geemap) (6.1.4)\n",
      "Requirement already satisfied: jsonschema!=2.5.0,>=2.4 in c:\\users\\jaquan\\dropbox\\my pc (desktop-d51qa19)\\downloads\\geol_315\\lib\\site-packages (from nbformat>=4.2.0->ipywidgets->whiteboxgui->geemap) (3.2.0)\n",
      "Requirement already satisfied: backcall in c:\\users\\jaquan\\dropbox\\my pc (desktop-d51qa19)\\downloads\\geol_315\\lib\\site-packages (from ipython>=4.0.0; python_version >= \"3.3\"->ipywidgets->whiteboxgui->geemap) (0.2.0)\n",
      "Requirement already satisfied: pickleshare in c:\\users\\jaquan\\dropbox\\my pc (desktop-d51qa19)\\downloads\\geol_315\\lib\\site-packages (from ipython>=4.0.0; python_version >= \"3.3\"->ipywidgets->whiteboxgui->geemap) (0.7.5)\n",
      "Requirement already satisfied: prompt-toolkit!=3.0.0,!=3.0.1,<3.1.0,>=2.0.0 in c:\\users\\jaquan\\dropbox\\my pc (desktop-d51qa19)\\downloads\\geol_315\\lib\\site-packages (from ipython>=4.0.0; python_version >= \"3.3\"->ipywidgets->whiteboxgui->geemap) (3.0.8)\n",
      "Requirement already satisfied: jedi>=0.10 in c:\\users\\jaquan\\dropbox\\my pc (desktop-d51qa19)\\downloads\\geol_315\\lib\\site-packages (from ipython>=4.0.0; python_version >= \"3.3\"->ipywidgets->whiteboxgui->geemap) (0.17.1)\n",
      "Requirement already satisfied: google-crc32c<2.0dev,>=1.0; python_version >= \"3.5\" in c:\\users\\jaquan\\dropbox\\my pc (desktop-d51qa19)\\downloads\\geol_315\\lib\\site-packages (from google-resumable-media<2.0dev,>=1.2.0->google-cloud-storage->earthengine-api>=0.1.230->geemap) (1.1.2)\n",
      "Requirement already satisfied: pyasn1>=0.1.3 in c:\\users\\jaquan\\dropbox\\my pc (desktop-d51qa19)\\downloads\\geol_315\\lib\\site-packages (from rsa<5,>=3.1.4; python_version >= \"3.6\"->google-auth>=1.4.1->earthengine-api>=0.1.230->geemap) (0.4.8)\n",
      "Requirement already satisfied: packaging>=14.3 in c:\\users\\jaquan\\dropbox\\my pc (desktop-d51qa19)\\downloads\\geol_315\\lib\\site-packages (from google-api-core<2dev,>=1.21.0->google-api-python-client>=1.12.1->earthengine-api>=0.1.230->geemap) (20.4)\n",
      "Requirement already satisfied: googleapis-common-protos<2.0dev,>=1.6.0 in c:\\users\\jaquan\\dropbox\\my pc (desktop-d51qa19)\\downloads\\geol_315\\lib\\site-packages (from google-api-core<2dev,>=1.21.0->google-api-python-client>=1.12.1->earthengine-api>=0.1.230->geemap) (1.52.0)\n",
      "Requirement already satisfied: protobuf>=3.12.0 in c:\\users\\jaquan\\dropbox\\my pc (desktop-d51qa19)\\downloads\\geol_315\\lib\\site-packages (from google-api-core<2dev,>=1.21.0->google-api-python-client>=1.12.1->earthengine-api>=0.1.230->geemap) (3.14.0)\n",
      "Requirement already satisfied: webencodings in c:\\users\\jaquan\\dropbox\\my pc (desktop-d51qa19)\\downloads\\geol_315\\lib\\site-packages (from bleach->nbconvert<7,>=6.0.0->voila->geemap) (0.5.1)\n",
      "Requirement already satisfied: pywinpty>=0.5 in c:\\users\\jaquan\\dropbox\\my pc (desktop-d51qa19)\\downloads\\geol_315\\lib\\site-packages (from terminado>=0.8.3->jupyter-server<2.0.0,>=0.3.0->voila->geemap) (0.5.7)\n",
      "Requirement already satisfied: sniffio>=1.1 in c:\\users\\jaquan\\dropbox\\my pc (desktop-d51qa19)\\downloads\\geol_315\\lib\\site-packages (from anyio>=2.0.2->jupyter-server<2.0.0,>=0.3.0->voila->geemap) (1.2.0)\n",
      "Requirement already satisfied: argon2-cffi in c:\\users\\jaquan\\dropbox\\my pc (desktop-d51qa19)\\downloads\\geol_315\\lib\\site-packages (from notebook>=4.4.1->widgetsnbextension~=3.5.0->ipywidgets->whiteboxgui->geemap) (20.1.0)\n",
      "Requirement already satisfied: attrs>=17.4.0 in c:\\users\\jaquan\\dropbox\\my pc (desktop-d51qa19)\\downloads\\geol_315\\lib\\site-packages (from jsonschema!=2.5.0,>=2.4->nbformat>=4.2.0->ipywidgets->whiteboxgui->geemap) (20.3.0)\n",
      "Requirement already satisfied: pyrsistent>=0.14.0 in c:\\users\\jaquan\\dropbox\\my pc (desktop-d51qa19)\\downloads\\geol_315\\lib\\site-packages (from jsonschema!=2.5.0,>=2.4->nbformat>=4.2.0->ipywidgets->whiteboxgui->geemap) (0.17.3)\n",
      "Requirement already satisfied: wcwidth in c:\\users\\jaquan\\dropbox\\my pc (desktop-d51qa19)\\downloads\\geol_315\\lib\\site-packages (from prompt-toolkit!=3.0.0,!=3.0.1,<3.1.0,>=2.0.0->ipython>=4.0.0; python_version >= \"3.3\"->ipywidgets->whiteboxgui->geemap) (0.2.5)\n",
      "Requirement already satisfied: parso<0.8.0,>=0.7.0 in c:\\users\\jaquan\\dropbox\\my pc (desktop-d51qa19)\\downloads\\geol_315\\lib\\site-packages (from jedi>=0.10->ipython>=4.0.0; python_version >= \"3.3\"->ipywidgets->whiteboxgui->geemap) (0.7.0)\n",
      "Requirement already satisfied: cffi>=1.0.0 in c:\\users\\jaquan\\dropbox\\my pc (desktop-d51qa19)\\downloads\\geol_315\\lib\\site-packages (from google-crc32c<2.0dev,>=1.0; python_version >= \"3.5\"->google-resumable-media<2.0dev,>=1.2.0->google-cloud-storage->earthengine-api>=0.1.230->geemap) (1.14.3)\n",
      "Requirement already satisfied: pycparser in c:\\users\\jaquan\\dropbox\\my pc (desktop-d51qa19)\\downloads\\geol_315\\lib\\site-packages (from cffi>=1.0.0->google-crc32c<2.0dev,>=1.0; python_version >= \"3.5\"->google-resumable-media<2.0dev,>=1.2.0->google-cloud-storage->earthengine-api>=0.1.230->geemap) (2.20)\n",
      "Installing collected packages: tornado\n",
      "  Attempting uninstall: tornado\n",
      "    Found existing installation: tornado 6.0.4\n",
      "    Uninstalling tornado-6.0.4:\n",
      "      Successfully uninstalled tornado-6.0.4\n"
     ]
    }
   ],
   "source": [
    "!pip install geemap"
   ]
  },
  {
   "cell_type": "markdown",
   "metadata": {},
   "source": [
    "## Creating Landsat Timelapse\n",
    "\n",
    "**Steps to create a Landsat timelapse:**\n",
    "\n",
    "1. Pan and zoom to your region of interest.\n",
    "2. Use the drawing tool to draw a rectangle anywhere on the map.\n",
    "3. Adjust the parameters (e.g., start year, end year, title) if needed.\n",
    "4. Check `Download the GIF` if you would like to download the timelapse GIF.\n",
    "5. Click the Submit button to create a timelapse.\n",
    "6. Deploy the app to [heroku](https://www.heroku.com/). See https://github.com/giswqs/earthengine-apps"
   ]
  },
  {
   "cell_type": "code",
   "execution_count": 23,
   "metadata": {},
   "outputs": [],
   "source": [
    "import os\n",
    "import ee\n",
    "import geemap\n",
    "import ipywidgets as widgets"
   ]
  },
  {
   "cell_type": "code",
   "execution_count": 24,
   "metadata": {
    "scrolled": false
   },
   "outputs": [
    {
     "data": {
      "application/vnd.jupyter.widget-view+json": {
       "model_id": "87876e9dbafb4b1987cad5b7441c4b71",
       "version_major": 2,
       "version_minor": 0
      },
      "text/plain": [
       "Map(center=[40, -100], controls=(WidgetControl(options=['position'], widget=HBox(children=(ToggleButton(value=…"
      ]
     },
     "metadata": {},
     "output_type": "display_data"
    }
   ],
   "source": [
    "Map = geemap.Map()\n",
    "Map"
   ]
  },
  {
   "cell_type": "code",
   "execution_count": 25,
   "metadata": {},
   "outputs": [],
   "source": [
    "out_dir = os.path.join(os.path.expanduser('~'), 'Downloads')\n",
    "if not os.path.exists(out_dir):\n",
    "    os.makedirs(out_dir)"
   ]
  },
  {
   "cell_type": "code",
   "execution_count": 26,
   "metadata": {},
   "outputs": [],
   "source": [
    "style = {'description_width': 'initial'}\n",
    "title = widgets.Text(\n",
    "    description='Title:',\n",
    "    value='River Dynamics',\n",
    "    width=200,\n",
    "    style=style\n",
    ")"
   ]
  },
  {
   "cell_type": "code",
   "execution_count": 27,
   "metadata": {},
   "outputs": [],
   "source": [
    "bands = widgets.Dropdown(\n",
    "    description='Select RGB Combo:',\n",
    "    options=['Red/Green/Blue', 'NIR/Red/Green',  'SWIR2/SWIR1/NIR', 'NIR/SWIR1/Red','SWIR2/NIR/Red', \n",
    "             'SWIR2/SWIR1/Red', 'SWIR1/NIR/Blue', 'NIR/SWIR1/Blue', 'SWIR2/NIR/Green', 'SWIR1/NIR/Red'],\n",
    "    value='NIR/Red/Green',\n",
    "    style=style\n",
    ")"
   ]
  },
  {
   "cell_type": "code",
   "execution_count": 28,
   "metadata": {
    "scrolled": true
   },
   "outputs": [
    {
     "data": {
      "application/vnd.jupyter.widget-view+json": {
       "model_id": "736a320b39a9492a9ba2f4bbb7337377",
       "version_major": 2,
       "version_minor": 0
      },
      "text/plain": [
       "HBox(children=(Text(value='Landsat Timelapse', description='Title:', style=DescriptionStyle(description_width=…"
      ]
     },
     "metadata": {},
     "output_type": "display_data"
    }
   ],
   "source": [
    "hbox1 = widgets.HBox([title, bands])\n",
    "hbox1"
   ]
  },
  {
   "cell_type": "code",
   "execution_count": 29,
   "metadata": {},
   "outputs": [],
   "source": [
    "start_year = widgets.IntSlider(description='Start Year:', value=1984, min=1984, max=2020, style=style)"
   ]
  },
  {
   "cell_type": "code",
   "execution_count": 30,
   "metadata": {},
   "outputs": [],
   "source": [
    "end_year = widgets.IntSlider(description='End Year:', value=2020, min=1984, max=2020, style=style)"
   ]
  },
  {
   "cell_type": "code",
   "execution_count": 31,
   "metadata": {},
   "outputs": [
    {
     "data": {
      "application/vnd.jupyter.widget-view+json": {
       "model_id": "225e5ed10e644585a1430efb147bc370",
       "version_major": 2,
       "version_minor": 0
      },
      "text/plain": [
       "HBox(children=(IntSlider(value=1984, description='Start Year:', max=2020, min=1984, style=SliderStyle(descript…"
      ]
     },
     "metadata": {},
     "output_type": "display_data"
    }
   ],
   "source": [
    "hbox2 = widgets.HBox([start_year, end_year])\n",
    "hbox2"
   ]
  },
  {
   "cell_type": "code",
   "execution_count": 32,
   "metadata": {},
   "outputs": [],
   "source": [
    "speed = widgets.IntSlider(\n",
    "    description='Frames per second:',\n",
    "    tooltip='Frames per second:',\n",
    "    value=10,\n",
    "    min=1, \n",
    "    max = 30,\n",
    "    style=style\n",
    ")"
   ]
  },
  {
   "cell_type": "code",
   "execution_count": 33,
   "metadata": {},
   "outputs": [],
   "source": [
    "download = widgets.Checkbox(\n",
    "    value=False,\n",
    "    description='Download the GIF',\n",
    "    style=style\n",
    ")"
   ]
  },
  {
   "cell_type": "code",
   "execution_count": 34,
   "metadata": {
    "scrolled": true
   },
   "outputs": [
    {
     "data": {
      "application/vnd.jupyter.widget-view+json": {
       "model_id": "47c93c4ba16b44379080fd79230b4474",
       "version_major": 2,
       "version_minor": 0
      },
      "text/plain": [
       "HBox(children=(IntSlider(value=10, description='Frames per second:', max=30, min=1, style=SliderStyle(descript…"
      ]
     },
     "metadata": {},
     "output_type": "display_data"
    }
   ],
   "source": [
    "hbox3 = widgets.HBox([speed, download])\n",
    "hbox3"
   ]
  },
  {
   "cell_type": "code",
   "execution_count": 35,
   "metadata": {},
   "outputs": [],
   "source": [
    "font_size = widgets.IntSlider(description='Font size:', value=30, min=10, max=50, style=style)"
   ]
  },
  {
   "cell_type": "code",
   "execution_count": 36,
   "metadata": {},
   "outputs": [],
   "source": [
    "font_color = widgets.ColorPicker(\n",
    "    concise=False,\n",
    "    description='Font color:',\n",
    "    value='white',\n",
    "    style=style\n",
    ")"
   ]
  },
  {
   "cell_type": "code",
   "execution_count": 37,
   "metadata": {},
   "outputs": [],
   "source": [
    "progress_bar_color = widgets.ColorPicker(\n",
    "    concise=False,\n",
    "    description='Progress bar color:',\n",
    "    value='blue',\n",
    "    style=style\n",
    ")"
   ]
  },
  {
   "cell_type": "code",
   "execution_count": 38,
   "metadata": {},
   "outputs": [
    {
     "data": {
      "application/vnd.jupyter.widget-view+json": {
       "model_id": "72e4ab68cae94d3390c37f6fe97d31f7",
       "version_major": 2,
       "version_minor": 0
      },
      "text/plain": [
       "HBox(children=(IntSlider(value=30, description='Font size:', max=50, min=10, style=SliderStyle(description_wid…"
      ]
     },
     "metadata": {},
     "output_type": "display_data"
    }
   ],
   "source": [
    "hbox4 = widgets.HBox([font_size, font_color, progress_bar_color])\n",
    "hbox4"
   ]
  },
  {
   "cell_type": "code",
   "execution_count": 39,
   "metadata": {},
   "outputs": [],
   "source": [
    "submit = widgets.Button(\n",
    "    description='Submit',\n",
    "    button_style='primary',\n",
    "    tooltip='Click the submit the request to create timelapse',\n",
    "    style=style\n",
    ")\n",
    "\n",
    "output = widgets.Output()"
   ]
  },
  {
   "cell_type": "code",
   "execution_count": 40,
   "metadata": {},
   "outputs": [],
   "source": [
    "def submit_clicked(b):\n",
    "    \n",
    "    with output:\n",
    "        output.clear_output()\n",
    "        if start_year.value >= end_year.value:\n",
    "            print('The end year must be great than the start year.')\n",
    "            return\n",
    "        print('Computing...')\n",
    "        \n",
    "        Map.add_landsat_ts_gif(roi=Map.user_roi, label=title.value, start_year=start_year.value, \n",
    "                               end_year=end_year.value, start_date='05-01', end_date='10-31', \n",
    "                               bands=bands.value.split('/'), font_color=font_color.value, \n",
    "                               frames_per_second=speed.value, font_size=font_size.value, \n",
    "                               progress_bar_color=progress_bar_color.value, download=download.value)    \n",
    "            \n",
    "submit.on_click(submit_clicked)"
   ]
  },
  {
   "cell_type": "code",
   "execution_count": 41,
   "metadata": {
    "scrolled": true
   },
   "outputs": [
    {
     "data": {
      "application/vnd.jupyter.widget-view+json": {
       "model_id": "1fa6980a862d4e4e9e4c56712328bb22",
       "version_major": 2,
       "version_minor": 0
      },
      "text/plain": [
       "Button(button_style='primary', description='Submit', style=ButtonStyle(), tooltip='Click the submit the reques…"
      ]
     },
     "metadata": {},
     "output_type": "display_data"
    }
   ],
   "source": [
    "submit"
   ]
  },
  {
   "cell_type": "code",
   "execution_count": 42,
   "metadata": {},
   "outputs": [
    {
     "data": {
      "application/vnd.jupyter.widget-view+json": {
       "model_id": "270b98aa2e0e4b97ac9dbd48cde4e06b",
       "version_major": 2,
       "version_minor": 0
      },
      "text/plain": [
       "Output()"
      ]
     },
     "metadata": {},
     "output_type": "display_data"
    }
   ],
   "source": [
    "output"
   ]
  },
  {
   "cell_type": "code",
   "execution_count": null,
   "metadata": {},
   "outputs": [],
   "source": []
  }
 ],
 "metadata": {
  "hide_input": true,
  "kernelspec": {
   "display_name": "Python 3",
   "language": "python",
   "name": "python3"
  },
  "language_info": {
   "codemirror_mode": {
    "name": "ipython",
    "version": 3
   },
   "file_extension": ".py",
   "mimetype": "text/x-python",
   "name": "python",
   "nbconvert_exporter": "python",
   "pygments_lexer": "ipython3",
   "version": "3.8.5"
  },
  "toc": {
   "base_numbering": 1,
   "nav_menu": {},
   "number_sections": true,
   "sideBar": true,
   "skip_h1_title": true,
   "title_cell": "Table of Contents",
   "title_sidebar": "Table of Contents",
   "toc_cell": false,
   "toc_position": {},
   "toc_section_display": true,
   "toc_window_display": true
  },
  "varInspector": {
   "cols": {
    "lenName": 16,
    "lenType": 16,
    "lenVar": 40
   },
   "kernels_config": {
    "python": {
     "delete_cmd_postfix": "",
     "delete_cmd_prefix": "del ",
     "library": "var_list.py",
     "varRefreshCmd": "print(var_dic_list())"
    },
    "r": {
     "delete_cmd_postfix": ") ",
     "delete_cmd_prefix": "rm(",
     "library": "var_list.r",
     "varRefreshCmd": "cat(var_dic_list()) "
    }
   },
   "types_to_exclude": [
    "module",
    "function",
    "builtin_function_or_method",
    "instance",
    "_Feature"
   ],
   "window_display": false
  }
 },
 "nbformat": 4,
 "nbformat_minor": 4
}
